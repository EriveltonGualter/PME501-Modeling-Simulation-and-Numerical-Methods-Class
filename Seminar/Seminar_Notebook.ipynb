{
 "cells": [
  {
   "cell_type": "markdown",
   "metadata": {
    "slideshow": {
     "slide_type": "slide"
    }
   },
   "source": [
    "\n",
    "<figure><img src='images/assembly.gif' width=\"450\" alt=\"Assembly wheelchair\" style=\"float:left;margin: 0 0 0 3px;\"/></figure>\n",
    "\n",
    "# Modelagem de uma Cadeira de Rodas com Propulsão Manual Assistida\n",
    "\n",
    "<br><br>\n",
    "Erivelton Gualter dos Santos"
   ]
  },
  {
   "cell_type": "markdown",
   "metadata": {
    "slideshow": {
     "slide_type": "slide"
    }
   },
   "source": [
    "### Escopo da Apresentação:\n",
    "\n",
    "- Objetivo;\n",
    "- Modelagem;\n",
    "- Parâmetros;\n",
    "- Estabilidade do Sistema;\n",
    "- Simulação e Análise;\n",
    "- Considerações Finais."
   ]
  },
  {
   "cell_type": "markdown",
   "metadata": {
    "slideshow": {
     "slide_type": "slide"
    }
   },
   "source": [
    "## Objetivo\n",
    "\n",
    "### Mestrado\n",
    "\n",
    "- Modelagem;\n",
    "- Construção;\n",
    "- Instrumentação;\n",
    "- Controle;\n",
    "- Comparação das Técnicas de Controle.\n",
    "\n",
    "### PME501\n",
    "\n",
    "- Modelagem e Simulação;"
   ]
  },
  {
   "cell_type": "markdown",
   "metadata": {
    "slideshow": {
     "slide_type": "skip"
    }
   },
   "source": [
    "## Modelagem\n",
    "\n",
    "- Sistema Estável (1 GDL)\n",
    "- Sistema Instável (2 GDL)"
   ]
  },
  {
   "cell_type": "markdown",
   "metadata": {
    "slideshow": {
     "slide_type": "slide"
    }
   },
   "source": [
    "### Modelo dinâmico com 1 Grau de Liberdade (a esquerda) e 2 Graus de Liberdade (a direita)\n",
    "<br>\n",
    "<figure><img src='images/Model.jpg' width=\"500\" alt=\"\" style=\"float:left;margin: 0 0 0 0px;\"/></figure>\n",
    "\n",
    "\n",
    "$ W_R $ e $ W_r $ : Força Normal nas Rodas Traseiras e Dianteiras.\n",
    "\n",
    "$ W $ : Força Peso\n",
    "\n",
    "$ \\theta $ : Deslocamento Angular da Rodas\n",
    "\n",
    "$ \\phi $ : Deslocamento Angular da Cadeira de Rodas\n",
    "\n",
    "$ R $ : Raio da Roda Traseira\n",
    "\n",
    "$ R' $ : Raio do Aro de Propulsão (pushrim)\n"
   ]
  },
  {
   "cell_type": "markdown",
   "metadata": {
    "slideshow": {
     "slide_type": "subslide"
    }
   },
   "source": [
    "## Modelo Dinâmico com 1 Grau de Liberdade\n",
    "\n",
    "<br><figure><img src='images/1GDL.jpg' width=\"350\" alt=\"Assembly wheelchair\" style=\"float:left;margin: 0 0 0 0px;\"/></figure>\n",
    "\n",
    "\n",
    "Através dos Teorema do Momento Angular e do Movimento Baricentro aplicado em cada corpo, temos a seguinte equação do movimento:\n",
    "\n",
    "$$ F\\left(\\frac{R'}{R}\\right) = \\left( M + \\frac{J_R}{R^2} \\right) \\dot{v} + F_R + F_r  $$\n",
    "\n",
    "\n",
    "$ J_R $ é o momento de inercia\n",
    "\n",
    "$ \\ddot{\\theta} $ é a aceleração angular\n",
    "\n",
    "$ \\tau_R $ é o momento gerado pela força resistiva ao  rolamento\n",
    "\n",
    "$ \\tau $ é o momento gerado pela força aplicada pelo usuário\n",
    "\n",
    "$ R $ o raio da roda traseira. \n",
    "\n",
    "\n",
    "\n",
    "\n"
   ]
  },
  {
   "cell_type": "markdown",
   "metadata": {
    "slideshow": {
     "slide_type": "subslide"
    }
   },
   "source": [
    "\n",
    "## Modelo Dinâmico com 2 Graus de Liberdade\n",
    "\n",
    "<figure><img src='images/2GDL.jpg' width=\"350\" alt=\"Assembly wheelchair\" style=\"float:right;margin: 0 0 0 0px;\"/></figure>\n",
    "\n",
    "\n",
    "Através dos Teorema do Momento Angular e do Movimento Baricentro aplicado em cada corpo, temos a seguinte equação do movimento:\n",
    "\n",
    "$$ \n",
    "\\begin{bmatrix} \n",
    "J_R + (M_r + M_c)R^2 & M_cRlcos(\\varphi) \\\\\n",
    "M_cRlcos(\\varphi) & J_c + M_cl^2 \n",
    "\\end{bmatrix}\n",
    "\\begin{bmatrix} \n",
    "\\ddot\\theta \\\\\n",
    "\\ddot\\varphi\n",
    "\\end{bmatrix}\n",
    "-\n",
    "\\begin{bmatrix} \n",
    "M_cRl(\\dot\\varphi)^2sin(\\varphi) \\\\\n",
    "M_cglsin(\\varphi)\n",
    "\\end{bmatrix}\n",
    "=\n",
    "\\begin{bmatrix} \n",
    "\\tau - F_RR \\\\\n",
    "-\\tau\n",
    "\\end{bmatrix}\n",
    "$$\n",
    "\n",
    "Linearizando o sistema temos:\n",
    "\n",
    "$$ \n",
    "\\begin{bmatrix} \n",
    "J_R + (M_r + M_c)R^2 & M_cRl \\\\\n",
    "M_cRl & J_c + M_cl^2 \n",
    "\\end{bmatrix}\n",
    "\\begin{bmatrix} \n",
    "\\ddot\\theta \\\\\n",
    "\\ddot\\varphi\n",
    "\\end{bmatrix}\n",
    "-\n",
    "\\begin{bmatrix} \n",
    "0 \\\\\n",
    "M_cglsin(\\varphi)\n",
    "\\end{bmatrix}\n",
    "=\n",
    "\\begin{bmatrix} \n",
    "\\tau - F_RR \\\\\n",
    "-\\tau\n",
    "\\end{bmatrix}\n",
    "$$\n",
    "\n",
    "$ J_R $ é o momento de inercia\n",
    "\n",
    "$ \\ddot{\\theta} $ é a aceleração angular\n",
    "\n",
    "$ \\tau_R $ é o momento gerado pela força resistiva ao  rolamento\n",
    "\n",
    "$ \\tau $ é o momento gerado pela força aplicada pelo usuário\n",
    "\n",
    "$ R $ o raio da roda traseira. \n",
    "\n"
   ]
  },
  {
   "cell_type": "markdown",
   "metadata": {
    "slideshow": {
     "slide_type": "subslide"
    }
   },
   "source": [
    "## Transição entre o sistema estável para instável \n",
    "\n",
    "<br>\n",
    "<figure><img src='images/Model_bloco.JPG' width=\"350\" alt=\"\" style=\"float:left; margin: 0 0 0 0px;\"/></figure>\n",
    "\n",
    "Para a eminência da transição, a força normal da roda dianteira deve ser nula, logo a aceleração neste instante corresponde a: \n",
    "\n",
    "$$ \\dot{v} = \\frac{L_Tg}{h_g} $$\n",
    "\n",
    "Portanto, \n",
    "\n",
    "\n",
    "$$ F\\left(\\frac{R'}{R}\\right) = \\left( M + \\frac{J_R}{R^2} \\right) \\frac{L_Tg}{h_g} + F_R + F_r  $$\n"
   ]
  },
  {
   "cell_type": "markdown",
   "metadata": {
    "slideshow": {
     "slide_type": "slide"
    }
   },
   "source": [
    "# Experimentos para obter os parâmetros do sistema\n",
    "\n",
    "- Massa da Cadeira de Rodas.\n",
    "- Centro de Massa da Cadeira de Rodas\n",
    "- Dados Antropométricos para massa e momento de inércia do corpo humano.\n",
    "- Experimento Pendular para determinar Momento de Inércia da Roda Traseira;\n",
    "- Experimento Pendular para determinar Momento de Inércia da Cadeira de Rodas."
   ]
  },
  {
   "cell_type": "markdown",
   "metadata": {
    "slideshow": {
     "slide_type": "slide"
    }
   },
   "source": [
    "# Massa da Cadeira de Rodas\n",
    "\n",
    "- Utilizado Célula de Carga com range de 20 kg.\n",
    "\n",
    "<br><figure><img src='images/exp1.jpg' width=\"400\" alt=\"Torque para eminencia do tombamento\" style=\"float:left;margin: \n",
    "10 10 10 10px;\"/></figure>\n",
    "\n",
    "\n"
   ]
  },
  {
   "cell_type": "markdown",
   "metadata": {
    "slideshow": {
     "slide_type": "slide"
    }
   },
   "source": [
    "# Centro de Massa da Cadeira de Rodas\n",
    "\n",
    "\n",
    "<br><figure><img src='images/CG.png' width=\"500\" alt=\"Torque para eminencia do tombamento\" style=\"float:left;margin: 10 10 10 10px;\"/></figure>\n",
    "\n"
   ]
  },
  {
   "cell_type": "markdown",
   "metadata": {
    "slideshow": {
     "slide_type": "slide"
    }
   },
   "source": [
    "# Dados Antropométricos para massa e momento de inércia do corpo humano\n",
    "\n",
    "\n",
    "\n"
   ]
  },
  {
   "cell_type": "markdown",
   "metadata": {
    "slideshow": {
     "slide_type": "slide"
    }
   },
   "source": [
    "# Experimento Pendular para determinar Momento de Inércia da Roda Traseira\n",
    "\n",
    "<br><figure><img src='images/exp2.jpg' width=\"350\" alt=\"Torque para eminencia do tombamento\" style=\"float:left;margin: 10 10 10 10px;\"/></figure>\n",
    "\n",
    "\n",
    "\n",
    "\n",
    "\n"
   ]
  },
  {
   "cell_type": "markdown",
   "metadata": {
    "slideshow": {
     "slide_type": "slide"
    }
   },
   "source": [
    "# Experimento Pendular para determinar Momento de Inércia da Cadeira de Rodas\n",
    "\n",
    "\n",
    "<br><figure><img src='images/exp3.JPG' width=\"350\" alt=\"Torque para eminencia do tombamento\" style=\"float:left;margin: 10 10 10 10px;\"/></figure>\n",
    "\n",
    "\n",
    "\n",
    "\n"
   ]
  },
  {
   "cell_type": "code",
   "execution_count": 18,
   "metadata": {
    "collapsed": false,
    "slideshow": {
     "slide_type": "fragment"
    }
   },
   "outputs": [
    {
     "data": {
      "text/latex": [
       "Valores obtidos experimentalmente da Cadeira de Rodas Jaguaribe (Ortopedia Jaguaribe Industria e Comercio)"
      ],
      "text/plain": [
       "<IPython.core.display.Latex object>"
      ]
     },
     "metadata": {},
     "output_type": "display_data"
    },
    {
     "data": {
      "text/html": [
       "<div>\n",
       "<table border=\"1\" class=\"dataframe\">\n",
       "  <thead>\n",
       "    <tr style=\"text-align: right;\">\n",
       "      <th></th>\n",
       "      <th>Propriedades</th>\n",
       "      <th>Valores</th>\n",
       "    </tr>\n",
       "  </thead>\n",
       "  <tbody>\n",
       "    <tr>\n",
       "      <th>0</th>\n",
       "      <td>Massa Total</td>\n",
       "      <td>87.700</td>\n",
       "    </tr>\n",
       "    <tr>\n",
       "      <th>1</th>\n",
       "      <td>Massa da Cadeira de Rodas</td>\n",
       "      <td>12.700</td>\n",
       "    </tr>\n",
       "    <tr>\n",
       "      <th>2</th>\n",
       "      <td>Massa da Roda Traseira</td>\n",
       "      <td>2.540</td>\n",
       "    </tr>\n",
       "    <tr>\n",
       "      <th>3</th>\n",
       "      <td>Momento Angular da Roda Traseira</td>\n",
       "      <td>0.140</td>\n",
       "    </tr>\n",
       "    <tr>\n",
       "      <th>4</th>\n",
       "      <td>Momento Angular da Cadeira de Rodas</td>\n",
       "      <td>1.670</td>\n",
       "    </tr>\n",
       "    <tr>\n",
       "      <th>5</th>\n",
       "      <td>Raio da Roda Traseira</td>\n",
       "      <td>0.305</td>\n",
       "    </tr>\n",
       "    <tr>\n",
       "      <th>6</th>\n",
       "      <td>Distancia horizontal do CG</td>\n",
       "      <td>0.107</td>\n",
       "    </tr>\n",
       "    <tr>\n",
       "      <th>7</th>\n",
       "      <td>Distancia vertical do CG</td>\n",
       "      <td>0.436</td>\n",
       "    </tr>\n",
       "  </tbody>\n",
       "</table>\n",
       "</div>"
      ],
      "text/plain": [
       "                          Propriedades   Valores\n",
       "0                          Massa Total    87.700\n",
       "1            Massa da Cadeira de Rodas    12.700\n",
       "2               Massa da Roda Traseira     2.540\n",
       "3     Momento Angular da Roda Traseira     0.140\n",
       "4  Momento Angular da Cadeira de Rodas     1.670\n",
       "5                Raio da Roda Traseira     0.305\n",
       "6           Distancia horizontal do CG     0.107\n",
       "7             Distancia vertical do CG     0.436"
      ]
     },
     "metadata": {},
     "output_type": "display_data"
    }
   ],
   "source": [
    "from IPython.display import display, Math, Latex\n",
    "import numpy as np\n",
    "import matplotlib.pyplot as plt\n",
    "import pandas as pd\n",
    "pd.set_option('max_colwidth', 100)\n",
    "a = pd.read_csv('data/parameters.txt', sep=',')\n",
    "\n",
    "display(Latex('Valores obtidos experimentalmente da Cadeira de Rodas Jaguaribe (Ortopedia Jaguaribe Industria e Comercio)'))\n",
    "display(a)"
   ]
  },
  {
   "cell_type": "markdown",
   "metadata": {
    "slideshow": {
     "slide_type": "slide"
    }
   },
   "source": [
    "\n",
    "# Parâmetros do Sistema\n",
    "\n",
    "<br><figure><img src='images/Torque_Transicao.png' width=\"350\" alt=\"Torque para eminencia do tombamento\" style=\"float:left;margin: 0 0 0 0px;\"/></figure>\n",
    "\n",
    "\n",
    "Através dos Teorema do Momento Angular e do Movimento Baricentro aplicado em cada corpo, temos a seguinte equação do movimento:\n",
    "\n",
    "\n",
    "$$ F\\left(\\frac{R'}{R}\\right) = \\left( M + \\frac{J_R}{R^2} \\right) \\frac{L_Tg}{h_g} + F_R + F_r  $$\n",
    "\n",
    "\n",
    "\n"
   ]
  }
 ],
 "metadata": {
  "celltoolbar": "Slideshow",
  "kernelspec": {
   "display_name": "Python 2",
   "language": "python",
   "name": "python2"
  },
  "language_info": {
   "codemirror_mode": {
    "name": "ipython",
    "version": 2
   },
   "file_extension": ".py",
   "mimetype": "text/x-python",
   "name": "python",
   "nbconvert_exporter": "python",
   "pygments_lexer": "ipython2",
   "version": "2.7.13"
  }
 },
 "nbformat": 4,
 "nbformat_minor": 2
}
