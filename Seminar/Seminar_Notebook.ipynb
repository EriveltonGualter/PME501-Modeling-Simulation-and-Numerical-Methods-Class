{
 "cells": [
  {
   "cell_type": "markdown",
   "metadata": {
    "slideshow": {
     "slide_type": "slide"
    }
   },
   "source": [
    "# Modelagem de uma Cadeira de Rodas com Propulsão Manual Assistida"
   ]
  },
  {
   "cell_type": "markdown",
   "metadata": {
    "slideshow": {
     "slide_type": "slide"
    }
   },
   "source": [
    "### Escopo da Apresentação:\n",
    "\n",
    "- Objetivo;\n",
    "- Modelagem;\n",
    "- Parâmetros;\n",
    "- Estabilidade;\n",
    "- Simulação;\n",
    "- Considerações Finais."
   ]
  },
  {
   "cell_type": "markdown",
   "metadata": {},
   "source": [
    "## Objetivo\n",
    "\n",
    "### Defesa do Mestrado\n",
    "\n",
    "- Modelagem;\n",
    "- Construção;\n",
    "- Instrumentação;\n",
    "- Controle;\n",
    "- Comparação das Técnicas de Controle.\n",
    "\n",
    "### PME501\n",
    "\n",
    "- Modelagem e Simulaçao;"
   ]
  },
  {
   "cell_type": "code",
   "execution_count": null,
   "metadata": {
    "collapsed": true
   },
   "outputs": [],
   "source": [
    "from IPython.display import Image\n",
    "Image(filename='images/Model.jpg')"
   ]
  }
 ],
 "metadata": {
  "celltoolbar": "Slideshow",
  "kernelspec": {
   "display_name": "Python 2",
   "language": "python",
   "name": "python2"
  },
  "language_info": {
   "codemirror_mode": {
    "name": "ipython",
    "version": 2
   },
   "file_extension": ".py",
   "mimetype": "text/x-python",
   "name": "python",
   "nbconvert_exporter": "python",
   "pygments_lexer": "ipython2",
   "version": "2.7.13"
  }
 },
 "nbformat": 4,
 "nbformat_minor": 2
}
