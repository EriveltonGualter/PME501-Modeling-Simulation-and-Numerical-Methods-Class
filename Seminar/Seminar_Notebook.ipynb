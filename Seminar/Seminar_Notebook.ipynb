{
 "cells": [
  {
   "cell_type": "markdown",
   "metadata": {
    "slideshow": {
     "slide_type": "slide"
    }
   },
   "source": [
    "\n",
    "<figure><img src='images/assembly.gif' width=\"450\" alt=\"Assembly wheelchair\" style=\"float:left;margin: 0 0 0 3px;\"/></figure>\n",
    "\n",
    "# Modelagem de uma Cadeira de Rodas com Propulsão Manual Assistida\n",
    "\n",
    "<br><br>\n",
    "Erivelton Gualter dos Santos"
   ]
  },
  {
   "cell_type": "markdown",
   "metadata": {
    "slideshow": {
     "slide_type": "slide"
    }
   },
   "source": [
    "### Escopo da Apresentação:\n",
    "\n",
    "- Objetivo;\n",
    "- Modelagem;\n",
    "- Parâmetros;\n",
    "- Estabilidade do Sistema;\n",
    "- Simulação e Análise;\n",
    "- Considerações Finais."
   ]
  },
  {
   "cell_type": "markdown",
   "metadata": {
    "slideshow": {
     "slide_type": "slide"
    }
   },
   "source": [
    "## Objetivo\n",
    "\n",
    "### Mestrado\n",
    "\n",
    "- Modelagem;\n",
    "- Construção;\n",
    "- Instrumentação;\n",
    "- Controle;\n",
    "- Comparação das Técnicas de Controle.\n",
    "\n",
    "### PME501\n",
    "\n",
    "- Modelagem e Simulação;"
   ]
  },
  {
   "cell_type": "markdown",
   "metadata": {
    "slideshow": {
     "slide_type": "skip"
    }
   },
   "source": [
    "## Modelagem\n",
    "\n",
    "- Sistema Estável (1 GDL)\n",
    "- Sistema Instável (2 GDL)"
   ]
  },
  {
   "cell_type": "markdown",
   "metadata": {
    "slideshow": {
     "slide_type": "slide"
    }
   },
   "source": [
    "### Modelo dinâmico com 1 Grau de Liberdade (a esquerda) e 2 Graus de Liberdade (a direita)\n",
    "<br>\n",
    "<figure><img src='images/Model.jpg' width=\"500\" alt=\"\" style=\"float:left;margin: 0 0 0 0px;\"/></figure>\n",
    "\n",
    "\n",
    "$ W_R $ e $ W_r $ : Força Normal nas Rodas Traseiras e Dianteiras.\n",
    "\n",
    "$ W $ : Força Peso\n",
    "\n",
    "$ \\theta $ : Deslocamento Angular da Rodas\n",
    "\n",
    "$ \\phi $ : Deslocamento Angular da Cadeira de Rodas\n",
    "\n",
    "$ R $ : Raio da Roda Traseira\n",
    "\n",
    "$ R' $ : Raio do Aro de Propulsão (pushrim)\n"
   ]
  },
  {
   "cell_type": "markdown",
   "metadata": {
    "slideshow": {
     "slide_type": "subslide"
    }
   },
   "source": [
    "## Modelo Dinâmico com 1 Grau de Liberdade\n",
    "\n",
    "<br><figure><img src='images/1GDL.jpg' width=\"350\" alt=\"Assembly wheelchair\" style=\"float:left;margin: 0 0 0 0px;\"/></figure>\n",
    "\n",
    "\n",
    "Através dos Teorema do Momento Angular e do Movimento Baricentro aplicado em cada corpo, temos a seguinte equação do movimento:\n",
    "\n",
    "$$ F\\left(\\frac{R'}{R}\\right) = \\left( M + \\frac{J_R}{R^2} \\right) \\dot{v} + F_R + F_r  $$\n",
    "\n",
    "\n",
    "$ J_R $ é o momento de inercia\n",
    "\n",
    "$ \\ddot{\\theta} $ é a aceleração angular\n",
    "\n",
    "$ \\tau_R $ é o momento gerado pela força resistiva ao  rolamento\n",
    "\n",
    "$ \\tau $ é o momento gerado pela força aplicada pelo usuário\n",
    "\n",
    "$ R $ o raio da roda traseira. \n",
    "\n",
    "\n",
    "\n",
    "\n"
   ]
  },
  {
   "cell_type": "markdown",
   "metadata": {
    "slideshow": {
     "slide_type": "subslide"
    }
   },
   "source": [
    "## Modelo Dinâmico com 2 Graus de Liberdade\n",
    "\n",
    "<figure><img src='images/2GDL.jpg' width=\"350\" alt=\"Assembly wheelchair\" style=\"float:right;margin: 0 0 0 0px;\"/></figure>\n",
    "\n",
    "\n",
    "Através dos Teorema do Momento Angular e do Movimento Baricentro aplicado em cada corpo, temos a seguinte equação do movimento:\n",
    "\n",
    "\n",
    "$$ [J_R + (M_r + M_c)R^2]\\ddot\\theta + M_cRlcos(\\theta)\\ddot\\varphi = \\tau - F_RR $$\n",
    "\n",
    "\n",
    "$$ (M_cRlcos(\\varphi))\\ddot\\theta + (J_c + M_cl^2)\\ddot\\varphi - M_cglsin(\\varphi) = -\\tau $$\n",
    "\n",
    "\n",
    "$ J_R $ é o momento de inercia\n",
    "\n",
    "$ \\ddot{\\theta} $ é a aceleração angular\n",
    "\n",
    "$ \\tau_R $ é o momento gerado pela força resistiva ao  rolamento\n",
    "\n",
    "$ \\tau $ é o momento gerado pela força aplicada pelo usuário\n",
    "\n",
    "$ R $ o raio da roda traseira. \n",
    "\n"
   ]
  },
  {
   "cell_type": "markdown",
   "metadata": {
    "slideshow": {
     "slide_type": "subslide"
    }
   },
   "source": [
    "## Transição entre o sistema estável para instável \n",
    "\n",
    "<br>\n",
    "<figure><img src='images/Model_bloco.jpg' width=\"350\" alt=\"\" style=\"float:left; margin: 0 0 0 0px;\"/></figure>\n",
    "\n",
    "Para a eminência da transição, a força normal da roda dianteira deve ser nula, logo a aceleração neste instante corresponde a: \n",
    "\n",
    "$$ \\dot{v} = \\frac{L_Tg}{h_g} $$\n",
    "\n",
    "Portanto, \n",
    "\n",
    "\n",
    "$$ F\\left(\\frac{R'}{R}\\right) = \\left( M + \\frac{J_R}{R^2} \\right) \\frac{L_Tg}{h_g} + F_R + F_r  $$\n"
   ]
  }
 ],
 "metadata": {
  "celltoolbar": "Slideshow",
  "kernelspec": {
   "display_name": "Python 2",
   "language": "python",
   "name": "python2"
  },
  "language_info": {
   "codemirror_mode": {
    "name": "ipython",
    "version": 2
   },
   "file_extension": ".py",
   "mimetype": "text/x-python",
   "name": "python",
   "nbconvert_exporter": "python",
   "pygments_lexer": "ipython2",
   "version": "2.7.13"
  }
 },
 "nbformat": 4,
 "nbformat_minor": 2
}
