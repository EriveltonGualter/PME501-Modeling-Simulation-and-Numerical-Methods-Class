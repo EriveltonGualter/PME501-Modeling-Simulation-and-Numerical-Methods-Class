{
 "cells": [
  {
   "cell_type": "markdown",
   "metadata": {
    "slideshow": {
     "slide_type": "slide"
    }
   },
   "source": [
    "\n",
    "<figure><img src='images/assembly.gif' width=\"450\" alt=\"Assembly wheelchair\" style=\"float:left;margin: 0 0 0 3px;\"/></figure>\n",
    "\n",
    "# Modelagem de uma Cadeira de Rodas com Propulsão Manual Assistida\n",
    "\n",
    "<br><br>\n",
    "Erivelton Gualter dos Santos"
   ]
  },
  {
   "cell_type": "markdown",
   "metadata": {
    "slideshow": {
     "slide_type": "slide"
    }
   },
   "source": [
    "### Escopo da Apresentação:\n",
    "\n",
    "- Objetivo;\n",
    "- Modelagem;\n",
    "- Parâmetros;\n",
    "- Estabilidade do Sistema;\n",
    "- Simulação e Análise;\n",
    "- Considerações Finais."
   ]
  },
  {
   "cell_type": "markdown",
   "metadata": {
    "slideshow": {
     "slide_type": "slide"
    }
   },
   "source": [
    "## Objetivo\n",
    "\n",
    "### Mestrado\n",
    "\n",
    "- Modelagem;\n",
    "- Construção;\n",
    "- Instrumentação;\n",
    "- Controle;\n",
    "- Comparação das Técnicas de Controle.\n",
    "\n",
    "### PME501\n",
    "\n",
    "- Modelagem e Simulação;"
   ]
  },
  {
   "cell_type": "markdown",
   "metadata": {
    "slideshow": {
     "slide_type": "slide"
    }
   },
   "source": [
    "## Modelagem\n",
    "\n",
    "- Sistema Estável (1 GDL)\n",
    "- Sistema Instável (2 GDL)"
   ]
  },
  {
   "cell_type": "markdown",
   "metadata": {
    "slideshow": {
     "slide_type": "-"
    }
   },
   "source": [
    "### Modelo dinâmico com 1 Grau de Liberdade (a esquerda) e 2 Graus de Liberdade (a direita)\n",
    "<br><br>\n",
    "<div class='center-align'><figure><img src=\"images/Model.jpg\" alt=\"Modelo \" width=500/></figure></div>\n"
   ]
  },
  {
   "cell_type": "markdown",
   "metadata": {
    "slideshow": {
     "slide_type": "subslide"
    }
   },
   "source": [
    "## Modelo Dinâmico com 1 Grau de Liberdade\n",
    "\n",
    "<br><figure><img src='images/1GDL.jpg' width=\"350\" alt=\"Assembly wheelchair\" style=\"float:left;margin: 0 0 0 0px;\"/></figure>\n",
    "\n",
    "Aplicando o Teorema do Momento Angular na roda traseira temos:\n",
    "\n",
    "$$ J_R \\ddot{\\theta} = \\tau - F_T.R - \\tau_R $$\n",
    "\n",
    "$$ \\ddot{\\theta} = \\frac{\\dot{v}}{R} $$\n",
    "\n",
    "$$ \\tau = F R' $$ e $$ \\tau_R = F_R R $$\n",
    "\n",
    "onde $ J_R $ é o momento de inercia, $ \\ddot{\\theta} $ é a aceleração angular, $ \\tau_R $ é o momento gerado pela força resistiva ao  rolamento, $ \\tau $ é o momento gerado pela força aplicada pelo usuário, e $ R $ o raio da roda traseira. \n",
    "\n",
    "$$ F\\left(\\frac{R'}{R}\\right) = \\left( M + \\frac{J_R}{R^2} \\right) \\ddot{v} + F_R + F_r  $$\n",
    "\n"
   ]
  },
  {
   "cell_type": "markdown",
   "metadata": {
    "slideshow": {
     "slide_type": "subslide"
    }
   },
   "source": [
    "## Modelo Dinâmico com 2 Graus de Liberdade\n",
    "\n",
    "<figure><img src='images/2GDL.jpg' width=\"350\" alt=\"Assembly wheelchair\" style=\"float:right;margin: 0 0 0 0px;\"/></figure>\n",
    "\n",
    "\n",
    "\n",
    "$$ [J_R + (M_r + M_c)R^2]\\ddot\\theta + M_cRlcos(\\theta)\\ddot\\varphi = \\tau - F_RR $$\n",
    "\n",
    "$$ (M_cRlcos(\\varphi))\\ddot\\theta + (J_c + M_cl^2)\\ddot\\varphi - M_cglsin(\\varphi) = -\\tau $$\n",
    "\n"
   ]
  },
  {
   "cell_type": "markdown",
   "metadata": {
    "slideshow": {
     "slide_type": "subslide"
    }
   },
   "source": [
    "$$ \\mathbf{F} = a_x\\mathbf{i}+a_y\\mathbf{j}+a_z\\mathbf{k} $$  \n",
    "\n",
    "\n",
    "Where $ \\mathbf{i,\\: j,\\: k} $ are unit vectors, each representing a direction and $ a_x\\mathbf{i},\\: a_y\\mathbf{j},\\: a_z\\mathbf{k} $ are the vector components of the vector $ \\mathbf{a} $.     \n",
    "A **unit vector** (or **versor**) is a vector whose length (or norm) is 1.   \n",
    "The unit vector of a non-zero vector $\\mathbf{a}$ is the unit vector codirectional with $\\mathbf{a}$:\n",
    "\n",
    "$$ \\mathbf{\\hat{u}} = \\frac{\\mathbf{a}}{||\\mathbf{a}||} = \\frac{a_x\\:\\mathbf{i} + a_y\\:\\mathbf{j} + a_z\\:\\mathbf{k}}{\\sqrt{a_x^2+a_y^2+a_z^2}} $$\n",
    "\n",
    "Where the symbol $||\\;||$ denotes the norm (magnitude, length or Euclidean norm) of a vector and it is defined as:\n",
    "\n",
    "$$ ||\\mathbf{a}|| = \\sqrt{a_x^2+a_y^2+a_z^2} $$\n",
    "\n",
    "The function `numpy.linalg.norm` calculates the norm:"
   ]
  },
  {
   "cell_type": "code",
   "execution_count": 12,
   "metadata": {
    "collapsed": true
   },
   "outputs": [],
   "source": [
    "from sympy import Symbol, symbols, cos, sin, Matrix, simplify\n",
    "from sympy.physics.mechanics import dynamicsymbols, mlatex, i\n",
    "nit_vprinting\n",
    "init_vprinting()\n",
    "from IPython.display import display, Math"
   ]
  },
  {
   "cell_type": "code",
   "execution_count": 13,
   "metadata": {
    "collapsed": false,
    "slideshow": {
     "slide_type": "slide"
    }
   },
   "outputs": [],
   "source": [
    "t = Symbol('t')\n",
    "d, L = symbols('d L', positive=True)\n",
    "a = dynamicsymbols('alpha')"
   ]
  },
  {
   "cell_type": "code",
   "execution_count": 14,
   "metadata": {
    "collapsed": false,
    "slideshow": {
     "slide_type": "slide"
    }
   },
   "outputs": [
    {
     "data": {
      "text/latex": [
       "$$x=d \\operatorname{cos}\\left(\\alpha\\right)$$"
      ],
      "text/plain": [
       "<IPython.core.display.Math object>"
      ]
     },
     "metadata": {},
     "output_type": "display_data"
    },
    {
     "data": {
      "text/latex": [
       "$$\\dot{x}=- d \\operatorname{sin}\\left(\\alpha\\right) \\dot{\\alpha}$$"
      ],
      "text/plain": [
       "<IPython.core.display.Math object>"
      ]
     },
     "metadata": {},
     "output_type": "display_data"
    },
    {
     "data": {
      "text/latex": [
       "$$\\ddot{x}=- d \\operatorname{sin}\\left(\\alpha\\right) \\ddot{\\alpha} - d \\operatorname{cos}\\left(\\alpha\\right) \\dot{\\alpha}^{2}$$"
      ],
      "text/plain": [
       "<IPython.core.display.Math object>"
      ]
     },
     "metadata": {},
     "output_type": "display_data"
    },
    {
     "data": {
      "text/latex": [
       "$$y=d \\operatorname{sin}\\left(\\alpha\\right)$$"
      ],
      "text/plain": [
       "<IPython.core.display.Math object>"
      ]
     },
     "metadata": {},
     "output_type": "display_data"
    },
    {
     "data": {
      "text/latex": [
       "$$\\dot{y}=d \\operatorname{cos}\\left(\\alpha\\right) \\dot{\\alpha}$$"
      ],
      "text/plain": [
       "<IPython.core.display.Math object>"
      ]
     },
     "metadata": {},
     "output_type": "display_data"
    },
    {
     "data": {
      "text/latex": [
       "$$\\ddot{y}=- d \\operatorname{sin}\\left(\\alpha\\right) \\dot{\\alpha}^{2} + d \\operatorname{cos}\\left(\\alpha\\right) \\ddot{\\alpha}$$"
      ],
      "text/plain": [
       "<IPython.core.display.Math object>"
      ]
     },
     "metadata": {},
     "output_type": "display_data"
    }
   ],
   "source": [
    "x, y = d*cos(a), d*sin(a)\n",
    "xd, yd = x.diff(t), y.diff(t)\n",
    "xdd, ydd = xd.diff(t), yd.diff(t)\n",
    "\n",
    "display(Math(r'x=' + mlatex(x)))\n",
    "display(Math(r'\\dot{x}=' + mlatex(xd)))\n",
    "display(Math(r'\\ddot{x}=' + mlatex(xdd)))\n",
    "display(Math(r'y=' + mlatex(y)))\n",
    "display(Math(r'\\dot{y}=' + mlatex(yd)))\n",
    "display(Math(r'\\ddot{y}=' + mlatex(ydd)))"
   ]
  },
  {
   "cell_type": "code",
   "execution_count": 15,
   "metadata": {
    "collapsed": true,
    "slideshow": {
     "slide_type": "slide"
    }
   },
   "outputs": [],
   "source": [
    "m, I, g = symbols('m I g', positive=True)\n",
    "Fex, Fey = symbols('F_ex F_ey')\n",
    "add = a.diff(t, 2)"
   ]
  },
  {
   "cell_type": "code",
   "execution_count": 16,
   "metadata": {
    "collapsed": false,
    "slideshow": {
     "slide_type": "subslide"
    }
   },
   "outputs": [
    {
     "data": {
      "text/latex": [
       "$$F_{rx}=- F_{ex} + m \\left(- d \\operatorname{sin}\\left(\\alpha\\right) \\ddot{\\alpha} - d \\operatorname{cos}\\left(\\alpha\\right) \\dot{\\alpha}^{2}\\right)$$"
      ],
      "text/plain": [
       "<IPython.core.display.Math object>"
      ]
     },
     "metadata": {},
     "output_type": "display_data"
    },
    {
     "data": {
      "text/latex": [
       "$$F_{ry}=- F_{ey} + g m + m \\left(- d \\operatorname{sin}\\left(\\alpha\\right) \\dot{\\alpha}^{2} + d \\operatorname{cos}\\left(\\alpha\\right) \\ddot{\\alpha}\\right)$$"
      ],
      "text/plain": [
       "<IPython.core.display.Math object>"
      ]
     },
     "metadata": {},
     "output_type": "display_data"
    }
   ],
   "source": [
    "Frx = m*xdd - Fex\n",
    "Fry = m*ydd + m*g - Fey\n",
    "display(Math(r'F_{rx}=' + mlatex(Frx)))\n",
    "display(Math(r'F_{ry}=' + mlatex(Fry)))"
   ]
  },
  {
   "cell_type": "code",
   "execution_count": 17,
   "metadata": {
    "collapsed": false,
    "slideshow": {
     "slide_type": "fragment"
    }
   },
   "outputs": [
    {
     "data": {
      "text/latex": [
       "$$T\\quad=\\quad F_{ex} \\left(L - d\\right) \\operatorname{sin}\\left(\\alpha\\right) - F_{ey} \\left(L - d\\right) \\operatorname{cos}\\left(\\alpha\\right) + I \\ddot{\\alpha} - d \\left(- F_{ex} + m \\left(- d \\operatorname{sin}\\left(\\alpha\\right) \\ddot{\\alpha} - d \\operatorname{cos}\\left(\\alpha\\right) \\dot{\\alpha}^{2}\\right)\\right) \\operatorname{sin}\\left(\\alpha\\right) + d \\left(- F_{ey} + g m + m \\left(- d \\operatorname{sin}\\left(\\alpha\\right) \\dot{\\alpha}^{2} + d \\operatorname{cos}\\left(\\alpha\\right) \\ddot{\\alpha}\\right)\\right) \\operatorname{cos}\\left(\\alpha\\right)$$"
      ],
      "text/plain": [
       "<IPython.core.display.Math object>"
      ]
     },
     "metadata": {},
     "output_type": "display_data"
    }
   ],
   "source": [
    "T = I*add - d*sin(a)*Frx + d*cos(a)*Fry + (L-d)*sin(a)*Fex - (L-d)*cos(a)*Fey\n",
    "display(Math(r'T\\quad=\\quad ' + mlatex(T)))"
   ]
  },
  {
   "cell_type": "code",
   "execution_count": 18,
   "metadata": {
    "collapsed": false,
    "slideshow": {
     "slide_type": "skip"
    }
   },
   "outputs": [
    {
     "data": {
      "text/latex": [
       "$$T=F_{ex} L \\operatorname{sin}\\left(\\alpha\\right) - F_{ey} L \\operatorname{cos}\\left(\\alpha\\right) + I \\ddot{\\alpha} + d^{2} m \\ddot{\\alpha} + d g m \\operatorname{cos}\\left(\\alpha\\right)$$"
      ],
      "text/plain": [
       "<IPython.core.display.Math object>"
      ]
     },
     "metadata": {},
     "output_type": "display_data"
    }
   ],
   "source": [
    "T = simplify(T)\n",
    "display(Math(r'T=' + mlatex(T)))"
   ]
  },
  {
   "cell_type": "code",
   "execution_count": null,
   "metadata": {
    "collapsed": true
   },
   "outputs": [],
   "source": []
  }
 ],
 "metadata": {
  "celltoolbar": "Slideshow",
  "kernelspec": {
   "display_name": "Python 2",
   "language": "python",
   "name": "python2"
  },
  "language_info": {
   "codemirror_mode": {
    "name": "ipython",
    "version": 2
   },
   "file_extension": ".py",
   "mimetype": "text/x-python",
   "name": "python",
   "nbconvert_exporter": "python",
   "pygments_lexer": "ipython2",
   "version": "2.7.13"
  }
 },
 "nbformat": 4,
 "nbformat_minor": 2
}
